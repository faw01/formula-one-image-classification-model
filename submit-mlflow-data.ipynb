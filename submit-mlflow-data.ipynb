{
 "cells": [
  {
   "cell_type": "code",
   "execution_count": null,
   "metadata": {},
   "outputs": [],
   "source": [
    "from tensorflow.keras.models import load_model\n",
    "model = load_model('models/content/formula-one-image-classification-model/models/f1-racecar-image-classifier.h5')"
   ]
  },
  {
   "cell_type": "code",
   "execution_count": null,
   "metadata": {},
   "outputs": [],
   "source": [
    "import mlflow\n",
    "mlflow.set_tracking_uri(uri=\"http://mlflow.f1-platform.k8s.io\")\n",
    "\n",
    "# Define the model hyperparameters\n",
    "params = {\n",
    "    \"classes\": {\n",
    "        0: 'alfa_romeo',\n",
    "        1: 'bwt',\n",
    "        2: 'ferrari',\n",
    "        3: 'haas',\n",
    "        4: 'mclaren',\n",
    "        5: 'mercedes',\n",
    "        6: 'redbull',\n",
    "        7: 'renault',\n",
    "        8: 'toro_rosso',\n",
    "        9: 'williams'\n",
    "        },\n",
    "    \"params_size\": \"14.11 MB\",\n",
    "    \"training_time_readable\": \"2h 5m 58s\",\n",
    "    \"training_time_start\": \"2024-03-22 11:48:00.461009\",\n",
    "    \"training_time_end\": \"2024-03-22 13:53:58.992526\"\n",
    "}\n",
    "\n",
    "# Create a new MLflow Experiment\n",
    "mlflow.set_experiment(\"Formula One Image Classification Model\")\n",
    "\n",
    "# Start an MLflow run\n",
    "with mlflow.start_run():\n",
    "    \n",
    "    mlflow.set_tag(\"mlflow.runName\", \"First initial run\")\n",
    "\n",
    "    # Log the hyperparameters\n",
    "    mlflow.log_params(params)\n",
    "\n",
    "    # Log the loss metric\n",
    "    mlflow.log_metric(\"accuracy\", 0.990991)\n",
    "    mlflow.log_metric(\"epochs\", 20)\n",
    "    mlflow.log_metric(\"params\", 3698938)\n",
    "    mlflow.log_metric(\"training_time_seconds\", 7558)\n",
    "    mlflow.log_metric(\"layers\", 9)\n",
    "\n",
    "    # Set a tag that we can use to remind ourselves what this run was for\n",
    "    mlflow.set_tag(\"First Training\", \"Training on Google Colaboratory, on CPU\")\n",
    "\n",
    "    mlflow.end_run()"
   ]
  },
  {
   "cell_type": "code",
   "execution_count": null,
   "metadata": {},
   "outputs": [],
   "source": [
    "mlflow.end_run()"
   ]
  }
 ],
 "metadata": {
  "language_info": {
   "codemirror_mode": {
    "name": "ipython",
    "version": 3
   },
   "file_extension": ".py",
   "mimetype": "text/x-python",
   "name": "python",
   "nbconvert_exporter": "python",
   "pygments_lexer": "ipython3",
   "version": "3.7.6-final"
  },
  "orig_nbformat": 2,
  "kernelspec": {
   "name": "python37664bitbaseconda63c0d7e1ee254161b7bb13732bb38c32",
   "display_name": "Python 3.7.6 64-bit ('base': conda)"
  }
 },
 "nbformat": 4,
 "nbformat_minor": 2
}